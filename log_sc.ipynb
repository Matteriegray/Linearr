{
  "nbformat": 4,
  "nbformat_minor": 0,
  "metadata": {
    "colab": {
      "provenance": [],
      "authorship_tag": "ABX9TyMNIRpqX99Ur4cXclidX0R2",
      "include_colab_link": true
    },
    "kernelspec": {
      "name": "python3",
      "display_name": "Python 3"
    },
    "language_info": {
      "name": "python"
    }
  },
  "cells": [
    {
      "cell_type": "markdown",
      "metadata": {
        "id": "view-in-github",
        "colab_type": "text"
      },
      "source": [
        "<a href=\"https://colab.research.google.com/github/Matteriegray/Linearr/blob/main/log_sc.ipynb\" target=\"_parent\"><img src=\"https://colab.research.google.com/assets/colab-badge.svg\" alt=\"Open In Colab\"/></a>"
      ]
    },
    {
      "cell_type": "code",
      "execution_count": null,
      "metadata": {
        "id": "st9F01v7J77U"
      },
      "outputs": [],
      "source": [
        "import numpy as np\n",
        "from sklearn.model_selection import train_test_split\n",
        "from sklearn import datasets\n",
        "import matplotlib.pyplot as plt\n",
        "\n",
        "class logReg():\n",
        "\n",
        "    def __init__(self, lr = 0.001, n_itr = 1000):\n",
        "        self.lr = lr\n",
        "        self.n_itr = n_itr\n",
        "        self.weights = None\n",
        "        self.bias = None\n",
        "\n",
        "    def fit(self, X , y):\n",
        "        n_samples, n_features = X.shape\n",
        "        self.weights = np.zeros(n_features)\n",
        "        self.bias = 0\n",
        "\n",
        "        for _ in range(self.n_itr):\n",
        "            y_pred = 1/(1+np.exp(-(np.dot(X, self.weights))+self.bias))\n",
        "\n",
        "            dw = (1/n_samples) * np.dot(X.T , (y_pred - y))\n",
        "            db = (1/n_samples) * np.sum(y_pred - y)\n",
        "\n",
        "            self.weights = self.weights - self.lr * dw\n",
        "            self.bias = self.bias + self.lr * db\n",
        "\n",
        "    def pred(self, X):\n",
        "\n",
        "        y_pred = 1/(1+np.exp(-(np.dot(X, self.weights))+self.bias))\n",
        "        class_pred = [0 if y<=0.5 else 1 for y in y_pred]\n",
        "\n",
        "        return class_pred\n",
        "\n",
        "\n",
        "bc = datasets.load_breast_cancer()\n",
        "X, y = bc.data, bc.target\n",
        "\n",
        "X_train, X_test, y_train, y_test = train_test_split(X, y, test_size = 0.3, random_state = 34)\n",
        "\n",
        "cls = logReg(lr = 0.065)\n",
        "\n",
        "cls.fit(X_train, y_train)\n",
        "\n",
        "y_pred = cls.pred(X_test)\n",
        "\n",
        "\n",
        "def accuracy(y_pred, y_test):\n",
        "    return np.sum(y_pred==y_test)/len(y_test)\n",
        "\n",
        "acc = accuracy(y_pred, y_test)\n",
        "\n",
        "print(acc)"
      ]
    }
  ]
}